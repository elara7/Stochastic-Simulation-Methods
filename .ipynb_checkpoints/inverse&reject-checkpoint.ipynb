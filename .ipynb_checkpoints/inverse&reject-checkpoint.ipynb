{
 "cells": [
  {
   "cell_type": "markdown",
   "metadata": {},
   "source": [
    "##逆变换法\n",
    "\n",
    "设 F(x) 是某一特定的一维概率分布函数，算法：\n",
    "\n",
    "1. 写出该分布函数的反函数 F^-1(x)\n",
    "\n",
    "2. 生成随机数u服从U(0,1)\n",
    "\n",
    "3. 计算x=F^-1(x),则x就是服从特定分布的随机数\n",
    "\n",
    "局限性：\n",
    "\n",
    "1. 反函数在0或者1的地方可能无穷大导致出错\n",
    "\n",
    "2. 分布函数必须严格单调递增，否则反函数不存在\n",
    "\n",
    "3. 反函数太复杂或者无法解析也无法算"
   ]
  },
  {
   "cell_type": "code",
   "execution_count": null,
   "metadata": {
    "collapsed": true
   },
   "outputs": [],
   "source": [
    "import numpy as np"
   ]
  },
  {
   "cell_type": "code",
   "execution_count": null,
   "metadata": {
    "collapsed": false
   },
   "outputs": [],
   "source": [
    "def revcauchy(u):\n",
    "    return tan(pi*(u-0.5))\n",
    "\n",
    "def cauchy(n):\n",
    "    u = np.random.uniform(0,1,n)\n",
    "    out = []\n",
    "    for i in range(n):\n",
    "        out.append(revcauchy(u[i]))\n",
    "    return out"
   ]
  },
  {
   "cell_type": "code",
   "execution_count": null,
   "metadata": {
    "collapsed": false
   },
   "outputs": [],
   "source": [
    "cauchy_random = cauchy(10000)"
   ]
  },
  {
   "cell_type": "code",
   "execution_count": null,
   "metadata": {
    "collapsed": false
   },
   "outputs": [],
   "source": [
    "# 截去尾巴巨大的数值\n",
    "plotcauchy = []\n",
    "for i in cauchy_random:\n",
    "    if i > -20 and i < 20:\n",
    "        plotcauchy.append(i)"
   ]
  },
  {
   "cell_type": "code",
   "execution_count": null,
   "metadata": {
    "collapsed": false
   },
   "outputs": [],
   "source": [
    "%pylab inline\n",
    "import matplotlib.pyplot as plt\n",
    "plt.hist(plotcauchy)\n",
    "plt.show"
   ]
  },
  {
   "cell_type": "code",
   "execution_count": null,
   "metadata": {
    "collapsed": false
   },
   "outputs": [],
   "source": [
    "from sklearn.neighbors import KernelDensity"
   ]
  },
  {
   "cell_type": "code",
   "execution_count": null,
   "metadata": {
    "collapsed": false
   },
   "outputs": [],
   "source": [
    "kde = KernelDensity(kernel = \"gaussian\", bandwidth=0.1).fit(plotcauchy)\n",
    "kde.score_samples(plotcauchy)"
   ]
  },
  {
   "cell_type": "markdown",
   "metadata": {},
   "source": [
    "## 接受-拒绝法\n",
    "\n",
    "1. 选择一个容易抽样的分布g(x)作为建议分布（如均匀分布，要求定义域和目标分布相同）\n",
    "\n",
    "2. 确定一个常数M，使得在定义域上有 f(x)<=M\\*g(x)\n",
    "\n",
    "3. 从g(x)中生成一个建议随机数y\n",
    "\n",
    "4. 从01均匀分布中生成一个随机数u\n",
    "\n",
    "5. 计算接受准则h(x) = f(x)/(Mg(x)), 如果u < h(y)，则接受y作为随机数"
   ]
  },
  {
   "cell_type": "code",
   "execution_count": 1,
   "metadata": {
    "collapsed": true
   },
   "outputs": [],
   "source": [
    "import numpy as np"
   ]
  },
  {
   "cell_type": "code",
   "execution_count": 2,
   "metadata": {
    "collapsed": true
   },
   "outputs": [],
   "source": [
    "def objpdf(x):\n",
    "    return 6*(x-0.5)*(x-0.5)/7"
   ]
  },
  {
   "cell_type": "code",
   "execution_count": 3,
   "metadata": {
    "collapsed": false
   },
   "outputs": [
    {
     "data": {
      "text/plain": [
       "1.9285714285714286"
      ]
     },
     "execution_count": 3,
     "metadata": {},
     "output_type": "execute_result"
    }
   ],
   "source": [
    "objpdf(2)"
   ]
  },
  {
   "cell_type": "code",
   "execution_count": 4,
   "metadata": {
    "collapsed": true
   },
   "outputs": [],
   "source": [
    "def advisepdf(x):\n",
    "    return 0.5"
   ]
  },
  {
   "cell_type": "code",
   "execution_count": 5,
   "metadata": {
    "collapsed": true
   },
   "outputs": [],
   "source": [
    "def adviseran(n):\n",
    "    return list(np.random.uniform(0,2,n))"
   ]
  },
  {
   "cell_type": "code",
   "execution_count": 10,
   "metadata": {
    "collapsed": true
   },
   "outputs": [],
   "source": [
    "N=10000\n",
    "M=3.858\n",
    "def reject(n,m):\n",
    "    out = []\n",
    "    count = 0\n",
    "    while(count<n):\n",
    "        y = adviseran(1)\n",
    "        u = list(np.random.uniform(0,1,n))[0]\n",
    "        h = objpdf(y[0])/(M*advisepdf(y[0]))\n",
    "        if u < h:\n",
    "            out.append(y)\n",
    "            count = count + 1\n",
    "    return out\n",
    "        "
   ]
  },
  {
   "cell_type": "code",
   "execution_count": 12,
   "metadata": {
    "collapsed": false
   },
   "outputs": [],
   "source": [
    "rejectran = reject(N,M)"
   ]
  }
 ],
 "metadata": {
  "kernelspec": {
   "display_name": "Python 2",
   "language": "python",
   "name": "python2"
  },
  "language_info": {
   "codemirror_mode": {
    "name": "ipython",
    "version": 2
   },
   "file_extension": ".py",
   "mimetype": "text/x-python",
   "name": "python",
   "nbconvert_exporter": "python",
   "pygments_lexer": "ipython2",
   "version": "2.7.13"
  }
 },
 "nbformat": 4,
 "nbformat_minor": 2
}
